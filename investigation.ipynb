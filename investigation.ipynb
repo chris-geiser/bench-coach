{
 "cells": [
  {
   "cell_type": "code",
   "execution_count": 249,
   "metadata": {},
   "outputs": [
    {
     "name": "stdout",
     "output_type": "stream",
     "text": [
      "League(6540, 2023)\n"
     ]
    }
   ],
   "source": [
    "from espn_api.baseball import League\n",
    "import pandas as pd\n",
    "import json\n",
    "\n",
    "# Variables required for espn_api\n",
    "league_id = 6540\n",
    "year = 2023\n",
    "\n",
    "# Variables required for ESPN authentication to access league\n",
    "espn_s2='AEC1RVk6neHGNkWhvHahLg3qYrF8tQBuwl%2F6lGNhEzUyG0fzGHj0sOeDEnpplBjVOCqJt%2F%2FhiWpp%2BG4p9K5bBl1XFORobrzkGDSUO3pi3GqpB55tVRCqUCURHd8bZqFEGdYorLMjYMOogUfEN7uD6lC69VOlnJ79Ho%2FQeWJ0MXaZXWLptl7nyq%2BgBNeZctVbA1%2FJxFB0P8GLJDPMgbCLUBzuSXcCwpVo6W3w%2Fk4aBwsN2RKyuAaWkijakkdOuRhQD4vfTxRN%2BLoZc2qoTExbTTuk4pjC6NQlnZYwmm7e2ivvxQ%3D%3D'\n",
    "swid='{0505C567-450F-4315-83D6-528C5D4E3EBB}'\n",
    "\n",
    "# Call to establish league\n",
    "league = League(\n",
    "    league_id,\n",
    "    year,\n",
    "    espn_s2,\n",
    "    swid,\n",
    "    #debug=True, \n",
    "    )\n",
    "\n",
    "print(league)"
   ]
  },
  {
   "cell_type": "code",
   "execution_count": 250,
   "metadata": {},
   "outputs": [
    {
     "name": "stdout",
     "output_type": "stream",
     "text": [
      "['team_id', 'team_abbrev', 'team_name', 'division_id', 'division_name', 'wins', 'losses', 'ties', 'logo_url', 'standing', 'final_standing', 'roster', 'schedule', 'owners']\n"
     ]
    }
   ],
   "source": [
    "# get a list of columns for our dataframe\n",
    "df_columns = list(league.teams[0].__dict__.keys())\n",
    "\n",
    "print(df_columns)"
   ]
  },
  {
   "cell_type": "code",
   "execution_count": 251,
   "metadata": {},
   "outputs": [
    {
     "name": "stdout",
     "output_type": "stream",
     "text": [
      "    team_id team_abbrev                 team_name  standing\n",
      "0         1        SASS        San Sal Salchichas         8\n",
      "1         2         SOS               Mako Sharks         3\n",
      "2         3        ATTS  Allentown Table Smashers         4\n",
      "3         4        STUD       Ben's Fantasy Studs         2\n",
      "4         5         ATX                  ATX MVPS         9\n",
      "5         6         MMH           Manila Mud Hens        11\n",
      "6        10          PS             Porky Slopers        10\n",
      "7        11          IL           SWING AND  MISS         6\n",
      "8        12        LECH               Le Champion         1\n",
      "9        13         PNL  Player to be Named Later         5\n",
      "10       14         DOA             Orlando  Duds         7\n",
      "    team_id                                             roster\n",
      "0         1  [Player(Shane McClanahan), Player(Eloy Jimenez...\n",
      "1         2  [Player(Xander Bogaerts), Player(Yu Darvish), ...\n",
      "2         3  [Player(Jazz Chisholm Jr.), Player(Adolis Garc...\n",
      "3         4  [Player(Corey Seager), Player(Adley Rutschman)...\n",
      "4         5  [Player(Michael Harris II), Player(Teoscar Her...\n",
      "5         6  [Player(Cedric Mullins), Player(Zac Gallen), P...\n",
      "6        10  [Player(Corbin Carroll), Player(Luis Robert Jr...\n",
      "7        11  [Player(Max Fried), Player(George Springer), P...\n",
      "8        12  [Player(Josh Hader), Player(Luis Castillo), Pl...\n",
      "9        13  [Player(Nolan Arenado), Player(Ryan Pressly), ...\n",
      "10       14  [Player(Tommy Edman), Player(Salvador Perez), ...\n",
      "    team_id                                             owners\n",
      "0         1  [{'displayName': 'rgeiser', 'firstName': 'Roy'...\n",
      "1         2  [{'displayName': 'rkoitto', 'firstName': 'Rein...\n",
      "2         3  [{'displayName': 'ESPNFAN07656820', 'firstName...\n",
      "3         4  [{'displayName': 'Bb9788a', 'firstName': 'Benj...\n",
      "4         5  [{'displayName': 'JohnL4508', 'firstName': 'Jo...\n",
      "5         6  [{'displayName': 'nycisbig', 'firstName': 'Mic...\n",
      "6        10  [{'displayName': 'chris@wondertwin.com', 'firs...\n",
      "7        11  [{'displayName': 'wookstheboss', 'firstName': ...\n",
      "8        12  [{'displayName': 'FriedelJuice', 'firstName': ...\n",
      "9        13  [{'displayName': 'Tuck5829', 'firstName': 'Tom...\n",
      "10       14  [{'displayName': 'espn57232600', 'firstName': ...\n"
     ]
    },
    {
     "name": "stderr",
     "output_type": "stream",
     "text": [
      "/var/folders/9z/vh9jfjf13b94djg6jw4j1xx00000gn/T/ipykernel_91825/1922565455.py:7: FutureWarning: The frame.append method is deprecated and will be removed from pandas in a future version. Use pandas.concat instead.\n",
      "  team_data = team_data.append(team_df, ignore_index=True)\n",
      "/var/folders/9z/vh9jfjf13b94djg6jw4j1xx00000gn/T/ipykernel_91825/1922565455.py:7: FutureWarning: The frame.append method is deprecated and will be removed from pandas in a future version. Use pandas.concat instead.\n",
      "  team_data = team_data.append(team_df, ignore_index=True)\n",
      "/var/folders/9z/vh9jfjf13b94djg6jw4j1xx00000gn/T/ipykernel_91825/1922565455.py:7: FutureWarning: The frame.append method is deprecated and will be removed from pandas in a future version. Use pandas.concat instead.\n",
      "  team_data = team_data.append(team_df, ignore_index=True)\n",
      "/var/folders/9z/vh9jfjf13b94djg6jw4j1xx00000gn/T/ipykernel_91825/1922565455.py:7: FutureWarning: The frame.append method is deprecated and will be removed from pandas in a future version. Use pandas.concat instead.\n",
      "  team_data = team_data.append(team_df, ignore_index=True)\n",
      "/var/folders/9z/vh9jfjf13b94djg6jw4j1xx00000gn/T/ipykernel_91825/1922565455.py:7: FutureWarning: The frame.append method is deprecated and will be removed from pandas in a future version. Use pandas.concat instead.\n",
      "  team_data = team_data.append(team_df, ignore_index=True)\n",
      "/var/folders/9z/vh9jfjf13b94djg6jw4j1xx00000gn/T/ipykernel_91825/1922565455.py:7: FutureWarning: The frame.append method is deprecated and will be removed from pandas in a future version. Use pandas.concat instead.\n",
      "  team_data = team_data.append(team_df, ignore_index=True)\n",
      "/var/folders/9z/vh9jfjf13b94djg6jw4j1xx00000gn/T/ipykernel_91825/1922565455.py:7: FutureWarning: The frame.append method is deprecated and will be removed from pandas in a future version. Use pandas.concat instead.\n",
      "  team_data = team_data.append(team_df, ignore_index=True)\n",
      "/var/folders/9z/vh9jfjf13b94djg6jw4j1xx00000gn/T/ipykernel_91825/1922565455.py:7: FutureWarning: The frame.append method is deprecated and will be removed from pandas in a future version. Use pandas.concat instead.\n",
      "  team_data = team_data.append(team_df, ignore_index=True)\n",
      "/var/folders/9z/vh9jfjf13b94djg6jw4j1xx00000gn/T/ipykernel_91825/1922565455.py:7: FutureWarning: The frame.append method is deprecated and will be removed from pandas in a future version. Use pandas.concat instead.\n",
      "  team_data = team_data.append(team_df, ignore_index=True)\n",
      "/var/folders/9z/vh9jfjf13b94djg6jw4j1xx00000gn/T/ipykernel_91825/1922565455.py:7: FutureWarning: The frame.append method is deprecated and will be removed from pandas in a future version. Use pandas.concat instead.\n",
      "  team_data = team_data.append(team_df, ignore_index=True)\n",
      "/var/folders/9z/vh9jfjf13b94djg6jw4j1xx00000gn/T/ipykernel_91825/1922565455.py:7: FutureWarning: The frame.append method is deprecated and will be removed from pandas in a future version. Use pandas.concat instead.\n",
      "  team_data = team_data.append(team_df, ignore_index=True)\n"
     ]
    }
   ],
   "source": [
    "# Create Teams DataFrame\n",
    "team_data = pd.DataFrame()\n",
    "\n",
    "# Append teams to DataFrame\n",
    "for d in range(len(league.teams)):\n",
    "    team_df = league.teams[d].__dict__\n",
    "    team_data = team_data.append(team_df, ignore_index=True)\n",
    "\n",
    "# Create Roster DataFrame\n",
    "roster_data = team_data[['team_id','roster']].copy()\n",
    "\n",
    "# Create Owners DataFrame\n",
    "owner_data = team_data[['team_id','owners']].copy()\n",
    "\n",
    "# Drop unecessary columns\n",
    "team_data = team_data.drop(['division_id','division_name','wins','losses','ties','logo_url','final_standing','schedule','owners', 'roster'], axis=1)\n",
    "\n",
    "print(team_data)\n",
    "print(roster_data)\n",
    "print(owner_data)"
   ]
  }
 ],
 "metadata": {
  "kernelspec": {
   "display_name": "streamlit",
   "language": "python",
   "name": "python3"
  },
  "language_info": {
   "codemirror_mode": {
    "name": "ipython",
    "version": 3
   },
   "file_extension": ".py",
   "mimetype": "text/x-python",
   "name": "python",
   "nbconvert_exporter": "python",
   "pygments_lexer": "ipython3",
   "version": "3.11.5"
  }
 },
 "nbformat": 4,
 "nbformat_minor": 2
}
